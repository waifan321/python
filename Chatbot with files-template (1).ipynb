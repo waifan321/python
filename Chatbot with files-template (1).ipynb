{
 "cells": [
  {
   "cell_type": "markdown",
   "id": "55e2f1f9-3179-4daf-a2d1-b112ad56f153",
   "metadata": {},
   "source": [
    "**Learning outcomes**\n",
    "- Load and use JSON files for chatbot development\n",
    "- Understand the application of dictonaries\n",
    "- Learn modular programming through functions"
   ]
  },
  {
   "cell_type": "code",
   "execution_count": 1,
   "id": "194cd7eb-e51c-45b1-a792-8bb327977974",
   "metadata": {},
   "outputs": [],
   "source": [
    "# now, we are actually going to get a json file that has intents and examine it\n",
    "# this json file will contain the different responses, patterns that you will use in chatbot\n",
    "# remember I had said, you needed functions last week so that you will start using files\n",
    "# these are the files\n",
    "\n",
    "# let's look at chatbot workflow\n",
    "# 1. read json to store tags, patterns, and responses\n",
    "# 2. examine whether patterns are regular expressions or strings\n",
    "# 3. Convert them to one format (preferabbly regex)\n",
    "# 4. Convert 2 dicionaries - regex to tags, and tags to responses\n",
    "# 5. Integrate with rest of chatbot code\n"
   ]
  },
  {
   "cell_type": "code",
   "execution_count": 2,
   "id": "00592906-7a35-4a21-9e6f-a967dffa46b1",
   "metadata": {},
   "outputs": [],
   "source": [
    "# again we always start with a function\n",
    "# the file is read at the start of the chatbot main\n",
    "\n",
    "import pandas as pd\n",
    "\n",
    "# Write a function read_json that takes in a file name and reads it  \n",
    "# File name is a String and contains path and file name (e.g., intents.json) \n",
    "\n",
    "\n",
    "# unit test : to ensure that file is read\n"
   ]
  },
  {
   "cell_type": "code",
   "execution_count": 4,
   "id": "b2d48974-ec97-496b-9e37-c4ceb4e02fdb",
   "metadata": {},
   "outputs": [
    {
     "name": "stdout",
     "output_type": "stream",
     "text": [
      "intents\n"
     ]
    }
   ],
   "source": [
    "# this does not let us view it in a nice way\n",
    "# so ,let's do a pretty print\n",
    "json_obj = pd.read_json(\"json/intents.json\")\n",
    "\n",
    "#print(json_obj)\n",
    "\n",
    "for obj in json_obj:\n",
    "    print(obj)\n",
    "\n",
    "# we probably have to increase column size in pandas\n",
    "# pd.options.display.max_colwidth = 200\n",
    "# print(intents_json)\n",
    "\n",
    "# note: actual json data format has a pretty print function"
   ]
  },
  {
   "cell_type": "code",
   "execution_count": 5,
   "id": "a949e36a-ed1c-47f5-902f-9a6611143835",
   "metadata": {},
   "outputs": [
    {
     "name": "stdout",
     "output_type": "stream",
     "text": [
      "{'intents': [{'tags': 'greetings', 'patterns': ['hi', 'you', 'me'], 'responses': [1, 2, 3, 5]}, {'tags': 'goodbye', 'patterns': ['hi, there', 'bye'], 'responses': [1, 2, 3, 4]}]}\n",
      "2\n"
     ]
    }
   ],
   "source": [
    "json_obj = {\n",
    "    \"intents\": [\n",
    "    {\n",
    "        \"tags\": \"greetings\",\n",
    "        \"patterns\": [\"hi\",\"you\",\"me\"],\n",
    "        \"responses\" : [1,2,3,5]\n",
    "    },\n",
    "    {\n",
    "        \"tags\": \"goodbye\",\n",
    "        \"patterns\": [\"hi, there\", \"bye\"],\n",
    "        \"responses\": [1,2,3,4]\n",
    "    }\n",
    "    ]\n",
    "}\n",
    "\n",
    "print(json_obj)\n",
    "print(len(json_obj[\"intents\"]))\n",
    "# print(json_obj[\"intents\"])\n",
    "# print(json_obj[\"intents\"][0][\"responses\"])\n",
    "# print(json_obj[\"intents\"][1][\"patterns\"])\n",
    "\n",
    "# i =0;\n",
    "# for objs in json_obj[\"intents\"]:\n",
    "#     print(\"object \" + str(i) + \" is : ...\")\n",
    "#     print(objs[\"patterns\"])\n",
    "#     i=i +1"
   ]
  },
  {
   "cell_type": "code",
   "execution_count": null,
   "id": "a84384d4-3b49-4b10-99d6-6059e07f1cad",
   "metadata": {},
   "outputs": [
    {
     "ename": "AttributeError",
     "evalue": "module 'pandas' has no attribute 'intents_json'",
     "output_type": "error",
     "traceback": [
      "\u001b[1;31m---------------------------------------------------------------------------\u001b[0m",
      "\u001b[1;31mAttributeError\u001b[0m                            Traceback (most recent call last)",
      "Cell \u001b[1;32mIn[7], line 1\u001b[0m\n\u001b[1;32m----> 1\u001b[0m \u001b[38;5;28;01mfor\u001b[39;00m intents \u001b[38;5;129;01min\u001b[39;00m \u001b[43mpd\u001b[49m\u001b[38;5;241;43m.\u001b[39;49m\u001b[43mintents_json\u001b[49m:\n\u001b[0;32m      2\u001b[0m     \u001b[38;5;28mprint\u001b[39m(intents)\n",
      "\u001b[1;31mAttributeError\u001b[0m: module 'pandas' has no attribute 'intents_json'"
     ]
    }
   ],
   "source": [
    "for intents in intents_json:\n",
    "    print(intents)"
   ]
  },
  {
   "cell_type": "code",
   "execution_count": null,
   "id": "fa4277cb-763c-4d9c-8cbd-1fdecd127e18",
   "metadata": {},
   "outputs": [],
   "source": [
    "# let's look at some of the tags, patterns, and responses\n",
    "\n",
    "# Print the tags see the different intents recognized by the chatbot \n",
    "\n",
    "# Print the patterns to see their content as that's directly relevant for next step\n",
    "\n",
    "# Print some of the responses to notice how they are\n"
   ]
  },
  {
   "cell_type": "markdown",
   "id": "b27fbce1-1e54-446a-8d05-2bfca6216e3a",
   "metadata": {},
   "source": [
    "- From some of the intent/response pairs , what do the contents seem to be about? \n",
    "- Are all patterns strings? Are some regular expressions? \n",
    "- What is the best format to convert them to?\n",
    "\n",
    "Write your observations below."
   ]
  },
  {
   "cell_type": "code",
   "execution_count": null,
   "id": "ea48148d-e620-49b1-8204-9c9877322a75",
   "metadata": {},
   "outputs": [],
   "source": [
    "# To convert them to RE's we have to look at each response and concatenate them with a pipe symbol.\n",
    "# We also have to add an r before each string\n",
    "\n",
    "# 1. Let's create a new object for regular expression patterns. call it rgx2int\n",
    "\n",
    "# 2. For each pattern in intents, and each element in pattern, we concatenate that into a key\n",
    "# and create a tag as a value for that.\n",
    "\n",
    "# E.g., we want to create regex from hi, how are you etc and make that a key\n",
    "# We want store the value as \"Greetings\"\n",
    "\n",
    "# For instance, we wannt a dcitionary element as \n",
    "# r\"Hi|How are you?|Is anyone there?|Hello|Good day|What's up|how are ya|heyy|whatsup|??? ??? ??\": \"greetings\"\n"
   ]
  },
  {
   "cell_type": "code",
   "execution_count": null,
   "id": "15ce7c1b-8518-4b36-ad5f-15618ea14d44",
   "metadata": {},
   "outputs": [],
   "source": [
    "# HINT: If you are stuck on the previous problem, try this\n",
    "\n",
    "# Can anyone think how we will take an list and turn into a string??\n",
    "list1 = [\"1\",\"2\",\"3\"] # a list of strings\n",
    "\n",
    "# TO \n",
    "\n",
    "r\"1|2|3\"\n",
    "\n",
    "# actually there is a simple way to do it\n",
    "# its called join operation\n",
    "# take a list and apply join operation on it to form a string\n",
    "\n",
    "# list1 = [\"1\",\"2\",\"3\"] # a list of strings\n",
    "# \"\".join(list1)\n",
    "# Uncomment run this\n",
    "# Now change the symbol inside to \"-\".join(list1)\n",
    "# Try other symbols and get right format.\n",
    "\n",
    "# Finally create regex as \n",
    "# regex = r\"?\".join(list1)"
   ]
  },
  {
   "cell_type": "code",
   "execution_count": null,
   "id": "02283156-d06a-4e0e-be5d-1e79789c6455",
   "metadata": {},
   "outputs": [],
   "source": [
    "# now return to original original problem .\n",
    "\n",
    "# 1. Create the rgx2int object\n",
    "# 2. For each pattern in intents, and each element in pattern, we concatenate that into a key\n",
    "# and create a tag as a value for that.\n",
    "# 3. Make this a function\n"
   ]
  },
  {
   "cell_type": "code",
   "execution_count": null,
   "id": "9285198b-71fe-4db5-93b5-ccf619e9b298",
   "metadata": {},
   "outputs": [],
   "source": [
    "# similarly let's go through the responses and associate them with tags\n",
    "\n",
    "# 1. Create an int2res object\n",
    "# 2. For each intents/tag, we make that into a key and create response as a  value for that.\n",
    "# 3. Make this a function \n",
    "\n",
    "# Now, check that everything works."
   ]
  },
  {
   "cell_type": "markdown",
   "id": "8d550e24-477c-4aa2-967b-f2b61dd2bd4c",
   "metadata": {},
   "source": [
    "<span style=\"color:red; font-size: 17px\"> At this point, contact your in-class tutor and show them the outputs"
   ]
  },
  {
   "cell_type": "code",
   "execution_count": null,
   "id": "4beabd92-f860-40a6-a0b5-26414655f9e6",
   "metadata": {},
   "outputs": [],
   "source": [
    "# now we have everything set up to integrate the chatbot from previous weeks!!\n",
    "\n",
    "# Write the functions we disucssed in class.\n",
    "\n",
    "# The chatbot now has 4 functions\n",
    "# - function that returns rgx2int - tags2intent\n",
    "# - function that returns int2res - intent2response\n",
    "# - Function that does chatbot_response\n",
    "# - Main loop that gets user input\n",
    "\n",
    "# In tags2intent and intent2response, call respective functions to get dictionaries rgx2int and int2res\n",
    "# Now, run the chatbot and see that it uses the data from files to create responses"
   ]
  },
  {
   "cell_type": "code",
   "execution_count": null,
   "id": "82076172-7f67-4ea8-875a-65553a735b11",
   "metadata": {},
   "outputs": [],
   "source": []
  }
 ],
 "metadata": {
  "kernelspec": {
   "display_name": "dp4ai",
   "language": "python",
   "name": "dp4ai"
  },
  "language_info": {
   "codemirror_mode": {
    "name": "ipython",
    "version": 3
   },
   "file_extension": ".py",
   "mimetype": "text/x-python",
   "name": "python",
   "nbconvert_exporter": "python",
   "pygments_lexer": "ipython3",
   "version": "3.12.5"
  }
 },
 "nbformat": 4,
 "nbformat_minor": 5
}
